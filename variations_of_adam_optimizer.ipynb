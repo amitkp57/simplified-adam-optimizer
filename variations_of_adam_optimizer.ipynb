{
  "nbformat": 4,
  "nbformat_minor": 0,
  "metadata": {
    "colab": {
      "name": "variations-of-adam-optimizer.ipynb",
      "provenance": [],
      "collapsed_sections": []
    },
    "kernelspec": {
      "display_name": "Python 3",
      "language": "python",
      "name": "python3"
    },
    "language_info": {
      "codemirror_mode": {
        "name": "ipython",
        "version": 3
      },
      "file_extension": ".py",
      "mimetype": "text/x-python",
      "name": "python",
      "nbconvert_exporter": "python",
      "pygments_lexer": "ipython3",
      "version": "3.6.10"
    },
    "widgets": {
      "application/vnd.jupyter.widget-state+json": {
        "84e2493329514a8f8d053702fc327c87": {
          "model_module": "@jupyter-widgets/controls",
          "model_name": "HBoxModel",
          "model_module_version": "1.5.0",
          "state": {
            "_view_name": "HBoxView",
            "_dom_classes": [],
            "_model_name": "HBoxModel",
            "_view_module": "@jupyter-widgets/controls",
            "_model_module_version": "1.5.0",
            "_view_count": null,
            "_view_module_version": "1.5.0",
            "box_style": "",
            "layout": "IPY_MODEL_ef945d81497345278153d990370909d5",
            "_model_module": "@jupyter-widgets/controls",
            "children": [
              "IPY_MODEL_6e278b5e33db433792990fc175729856",
              "IPY_MODEL_307b3de146c748c4a935c80e8ac33c93",
              "IPY_MODEL_f6baeba2f66242b88c8f746cf166da5a"
            ]
          }
        },
        "ef945d81497345278153d990370909d5": {
          "model_module": "@jupyter-widgets/base",
          "model_name": "LayoutModel",
          "model_module_version": "1.2.0",
          "state": {
            "_view_name": "LayoutView",
            "grid_template_rows": null,
            "right": null,
            "justify_content": null,
            "_view_module": "@jupyter-widgets/base",
            "overflow": null,
            "_model_module_version": "1.2.0",
            "_view_count": null,
            "flex_flow": null,
            "width": null,
            "min_width": null,
            "border": null,
            "align_items": null,
            "bottom": null,
            "_model_module": "@jupyter-widgets/base",
            "top": null,
            "grid_column": null,
            "overflow_y": null,
            "overflow_x": null,
            "grid_auto_flow": null,
            "grid_area": null,
            "grid_template_columns": null,
            "flex": null,
            "_model_name": "LayoutModel",
            "justify_items": null,
            "grid_row": null,
            "max_height": null,
            "align_content": null,
            "visibility": null,
            "align_self": null,
            "height": null,
            "min_height": null,
            "padding": null,
            "grid_auto_rows": null,
            "grid_gap": null,
            "max_width": null,
            "order": null,
            "_view_module_version": "1.2.0",
            "grid_template_areas": null,
            "object_position": null,
            "object_fit": null,
            "grid_auto_columns": null,
            "margin": null,
            "display": null,
            "left": null
          }
        },
        "6e278b5e33db433792990fc175729856": {
          "model_module": "@jupyter-widgets/controls",
          "model_name": "HTMLModel",
          "model_module_version": "1.5.0",
          "state": {
            "_view_name": "HTMLView",
            "style": "IPY_MODEL_b99afb6c42e64c17944c5864ff9f340a",
            "_dom_classes": [],
            "description": "",
            "_model_name": "HTMLModel",
            "placeholder": "​",
            "_view_module": "@jupyter-widgets/controls",
            "_model_module_version": "1.5.0",
            "value": "",
            "_view_count": null,
            "_view_module_version": "1.5.0",
            "description_tooltip": null,
            "_model_module": "@jupyter-widgets/controls",
            "layout": "IPY_MODEL_d2507f748a33484681d0191b221cbc92"
          }
        },
        "307b3de146c748c4a935c80e8ac33c93": {
          "model_module": "@jupyter-widgets/controls",
          "model_name": "FloatProgressModel",
          "model_module_version": "1.5.0",
          "state": {
            "_view_name": "ProgressView",
            "style": "IPY_MODEL_7d8bfd30afc24abf97039cd1a8c49f5b",
            "_dom_classes": [],
            "description": "",
            "_model_name": "FloatProgressModel",
            "bar_style": "success",
            "max": 170498071,
            "_view_module": "@jupyter-widgets/controls",
            "_model_module_version": "1.5.0",
            "value": 170498071,
            "_view_count": null,
            "_view_module_version": "1.5.0",
            "orientation": "horizontal",
            "min": 0,
            "description_tooltip": null,
            "_model_module": "@jupyter-widgets/controls",
            "layout": "IPY_MODEL_63f684b50e4646fca3a1638a36b9785e"
          }
        },
        "f6baeba2f66242b88c8f746cf166da5a": {
          "model_module": "@jupyter-widgets/controls",
          "model_name": "HTMLModel",
          "model_module_version": "1.5.0",
          "state": {
            "_view_name": "HTMLView",
            "style": "IPY_MODEL_171e75f1e7724a3f82fb1fa617d8feab",
            "_dom_classes": [],
            "description": "",
            "_model_name": "HTMLModel",
            "placeholder": "​",
            "_view_module": "@jupyter-widgets/controls",
            "_model_module_version": "1.5.0",
            "value": " 170499072/? [00:11&lt;00:00, 18771859.54it/s]",
            "_view_count": null,
            "_view_module_version": "1.5.0",
            "description_tooltip": null,
            "_model_module": "@jupyter-widgets/controls",
            "layout": "IPY_MODEL_36669008919f44c09ee20458442e4787"
          }
        },
        "b99afb6c42e64c17944c5864ff9f340a": {
          "model_module": "@jupyter-widgets/controls",
          "model_name": "DescriptionStyleModel",
          "model_module_version": "1.5.0",
          "state": {
            "_view_name": "StyleView",
            "_model_name": "DescriptionStyleModel",
            "description_width": "",
            "_view_module": "@jupyter-widgets/base",
            "_model_module_version": "1.5.0",
            "_view_count": null,
            "_view_module_version": "1.2.0",
            "_model_module": "@jupyter-widgets/controls"
          }
        },
        "d2507f748a33484681d0191b221cbc92": {
          "model_module": "@jupyter-widgets/base",
          "model_name": "LayoutModel",
          "model_module_version": "1.2.0",
          "state": {
            "_view_name": "LayoutView",
            "grid_template_rows": null,
            "right": null,
            "justify_content": null,
            "_view_module": "@jupyter-widgets/base",
            "overflow": null,
            "_model_module_version": "1.2.0",
            "_view_count": null,
            "flex_flow": null,
            "width": null,
            "min_width": null,
            "border": null,
            "align_items": null,
            "bottom": null,
            "_model_module": "@jupyter-widgets/base",
            "top": null,
            "grid_column": null,
            "overflow_y": null,
            "overflow_x": null,
            "grid_auto_flow": null,
            "grid_area": null,
            "grid_template_columns": null,
            "flex": null,
            "_model_name": "LayoutModel",
            "justify_items": null,
            "grid_row": null,
            "max_height": null,
            "align_content": null,
            "visibility": null,
            "align_self": null,
            "height": null,
            "min_height": null,
            "padding": null,
            "grid_auto_rows": null,
            "grid_gap": null,
            "max_width": null,
            "order": null,
            "_view_module_version": "1.2.0",
            "grid_template_areas": null,
            "object_position": null,
            "object_fit": null,
            "grid_auto_columns": null,
            "margin": null,
            "display": null,
            "left": null
          }
        },
        "7d8bfd30afc24abf97039cd1a8c49f5b": {
          "model_module": "@jupyter-widgets/controls",
          "model_name": "ProgressStyleModel",
          "model_module_version": "1.5.0",
          "state": {
            "_view_name": "StyleView",
            "_model_name": "ProgressStyleModel",
            "description_width": "",
            "_view_module": "@jupyter-widgets/base",
            "_model_module_version": "1.5.0",
            "_view_count": null,
            "_view_module_version": "1.2.0",
            "bar_color": null,
            "_model_module": "@jupyter-widgets/controls"
          }
        },
        "63f684b50e4646fca3a1638a36b9785e": {
          "model_module": "@jupyter-widgets/base",
          "model_name": "LayoutModel",
          "model_module_version": "1.2.0",
          "state": {
            "_view_name": "LayoutView",
            "grid_template_rows": null,
            "right": null,
            "justify_content": null,
            "_view_module": "@jupyter-widgets/base",
            "overflow": null,
            "_model_module_version": "1.2.0",
            "_view_count": null,
            "flex_flow": null,
            "width": null,
            "min_width": null,
            "border": null,
            "align_items": null,
            "bottom": null,
            "_model_module": "@jupyter-widgets/base",
            "top": null,
            "grid_column": null,
            "overflow_y": null,
            "overflow_x": null,
            "grid_auto_flow": null,
            "grid_area": null,
            "grid_template_columns": null,
            "flex": null,
            "_model_name": "LayoutModel",
            "justify_items": null,
            "grid_row": null,
            "max_height": null,
            "align_content": null,
            "visibility": null,
            "align_self": null,
            "height": null,
            "min_height": null,
            "padding": null,
            "grid_auto_rows": null,
            "grid_gap": null,
            "max_width": null,
            "order": null,
            "_view_module_version": "1.2.0",
            "grid_template_areas": null,
            "object_position": null,
            "object_fit": null,
            "grid_auto_columns": null,
            "margin": null,
            "display": null,
            "left": null
          }
        },
        "171e75f1e7724a3f82fb1fa617d8feab": {
          "model_module": "@jupyter-widgets/controls",
          "model_name": "DescriptionStyleModel",
          "model_module_version": "1.5.0",
          "state": {
            "_view_name": "StyleView",
            "_model_name": "DescriptionStyleModel",
            "description_width": "",
            "_view_module": "@jupyter-widgets/base",
            "_model_module_version": "1.5.0",
            "_view_count": null,
            "_view_module_version": "1.2.0",
            "_model_module": "@jupyter-widgets/controls"
          }
        },
        "36669008919f44c09ee20458442e4787": {
          "model_module": "@jupyter-widgets/base",
          "model_name": "LayoutModel",
          "model_module_version": "1.2.0",
          "state": {
            "_view_name": "LayoutView",
            "grid_template_rows": null,
            "right": null,
            "justify_content": null,
            "_view_module": "@jupyter-widgets/base",
            "overflow": null,
            "_model_module_version": "1.2.0",
            "_view_count": null,
            "flex_flow": null,
            "width": null,
            "min_width": null,
            "border": null,
            "align_items": null,
            "bottom": null,
            "_model_module": "@jupyter-widgets/base",
            "top": null,
            "grid_column": null,
            "overflow_y": null,
            "overflow_x": null,
            "grid_auto_flow": null,
            "grid_area": null,
            "grid_template_columns": null,
            "flex": null,
            "_model_name": "LayoutModel",
            "justify_items": null,
            "grid_row": null,
            "max_height": null,
            "align_content": null,
            "visibility": null,
            "align_self": null,
            "height": null,
            "min_height": null,
            "padding": null,
            "grid_auto_rows": null,
            "grid_gap": null,
            "max_width": null,
            "order": null,
            "_view_module_version": "1.2.0",
            "grid_template_areas": null,
            "object_position": null,
            "object_fit": null,
            "grid_auto_columns": null,
            "margin": null,
            "display": null,
            "left": null
          }
        }
      }
    },
    "accelerator": "GPU"
  },
  "cells": [
    {
      "cell_type": "markdown",
      "metadata": {
        "id": "bRBKd9lhywA1"
      },
      "source": [
        "# Experiment with Adam optimizer\n",
        "\n",
        "Variations of adam optimizer are used for image classfication on CIFAR-10 dataset. Resnet is used for the classification task and implemented in pytorch."
      ]
    },
    {
      "cell_type": "markdown",
      "metadata": {
        "id": "TRW6ofcZz5h9"
      },
      "source": [
        "# Data"
      ]
    },
    {
      "cell_type": "code",
      "metadata": {
        "id": "1j41K_HOzKqP"
      },
      "source": [
        "import os\n",
        "import pickle\n",
        "import warnings\n",
        "\n",
        "import matplotlib.pyplot as plt\n",
        "import numpy as np\n",
        "\n",
        "from datetime import datetime\n",
        "\n",
        "import torch\n",
        "from torchvision import models\n",
        "import torchvision\n",
        "import torchvision.transforms as transforms\n",
        "from torch.autograd import Function\n",
        "import torch.nn as nn\n",
        "import torch.nn.functional as F\n",
        "from torch.utils.data import Dataset\n",
        "\n",
        "warnings.filterwarnings(\"ignore\")\n",
        "plt.ion()"
      ],
      "execution_count": 3,
      "outputs": []
    },
    {
      "cell_type": "code",
      "metadata": {
        "colab": {
          "base_uri": "https://localhost:8080/",
          "height": 101,
          "referenced_widgets": [
            "84e2493329514a8f8d053702fc327c87",
            "ef945d81497345278153d990370909d5",
            "6e278b5e33db433792990fc175729856",
            "307b3de146c748c4a935c80e8ac33c93",
            "f6baeba2f66242b88c8f746cf166da5a",
            "b99afb6c42e64c17944c5864ff9f340a",
            "d2507f748a33484681d0191b221cbc92",
            "7d8bfd30afc24abf97039cd1a8c49f5b",
            "63f684b50e4646fca3a1638a36b9785e",
            "171e75f1e7724a3f82fb1fa617d8feab",
            "36669008919f44c09ee20458442e4787"
          ]
        },
        "id": "h2wKUyAzMh3Q",
        "outputId": "e0d24231-643d-4301-e75c-f3ffeb2345f1"
      },
      "source": [
        "from torchvision import transforms\n",
        "BATCH_SIZE = 32\n",
        "\n",
        "## transformations\n",
        "transform_train = transforms.Compose([transforms.Resize((32,32)),  #resises the image so it can be perfect for our model.\n",
        "                                      transforms.RandomHorizontalFlip(), # FLips the image w.r.t horizontal axis\n",
        "                                      transforms.RandomRotation(10),     #Rotates the image to a specified angel\n",
        "                                      transforms.ColorJitter(brightness=0.2, contrast=0.2, saturation=0.2), # Set the color params\n",
        "                                      transforms.ToTensor(), # comvert the image to tensor so that it can work with torch\n",
        "                                      transforms.Normalize((0.5, 0.5, 0.5), (0.5, 0.5, 0.5)) #Normalize all the images\n",
        "                                      ])\n",
        " \n",
        "transform_test = transforms.Compose([transforms.Resize((32,32)),\n",
        "                               transforms.ToTensor(),\n",
        "                               transforms.Normalize((0.5, 0.5, 0.5), (0.5, 0.5, 0.5))\n",
        "                               ])\n",
        "\n",
        "train_dset = torchvision.datasets.CIFAR10('cifar10_pytorch', train=True,\n",
        "                                                  transform=transform_train, download=True)\n",
        "train_loader = torch.utils.data.DataLoader(train_dset, batch_size=BATCH_SIZE, shuffle=False, num_workers=0)\n",
        "\n",
        "test_dset = torchvision.datasets.CIFAR10('cifar10_pytorch', train=False,\n",
        "                                                  transform=transform_test, download=True)\n",
        "test_loader = torch.utils.data.DataLoader(test_dset, batch_size=BATCH_SIZE, shuffle=False, num_workers=0)"
      ],
      "execution_count": 4,
      "outputs": [
        {
          "output_type": "stream",
          "name": "stdout",
          "text": [
            "Downloading https://www.cs.toronto.edu/~kriz/cifar-10-python.tar.gz to cifar10_pytorch/cifar-10-python.tar.gz\n"
          ]
        },
        {
          "output_type": "display_data",
          "data": {
            "application/vnd.jupyter.widget-view+json": {
              "model_id": "84e2493329514a8f8d053702fc327c87",
              "version_minor": 0,
              "version_major": 2
            },
            "text/plain": [
              "  0%|          | 0/170498071 [00:00<?, ?it/s]"
            ]
          },
          "metadata": {}
        },
        {
          "output_type": "stream",
          "name": "stdout",
          "text": [
            "Extracting cifar10_pytorch/cifar-10-python.tar.gz to cifar10_pytorch\n",
            "Files already downloaded and verified\n"
          ]
        }
      ]
    },
    {
      "cell_type": "markdown",
      "metadata": {
        "id": "24TEyOu00Bk8"
      },
      "source": [
        "# Model"
      ]
    },
    {
      "cell_type": "code",
      "metadata": {
        "colab": {
          "base_uri": "https://localhost:8080/"
        },
        "id": "aznt08VN-iFp",
        "outputId": "16caaedd-0bbb-46d0-dd44-6561d42c04a2"
      },
      "source": [
        "from torchsummary import summary\n",
        "\n",
        "class ResNet(nn.Module):\n",
        "    def __init__(self):\n",
        "        super().__init__()\n",
        "        self.conv1 = nn.Conv2d(in_channels=3, out_channels=64, kernel_size=3, stride=1, padding=1)\n",
        "        self.bn1 = nn.BatchNorm2d(64)\n",
        "        self.conv2 = nn.Conv2d(in_channels=64, out_channels=64, kernel_size=3, stride=1, padding=1)\n",
        "        self.bn2 = nn.BatchNorm2d(64)\n",
        "        self.conv3 = nn.Conv2d(in_channels=64, out_channels=64, kernel_size=3, stride=1, padding=1)\n",
        "        self.bn3 = nn.BatchNorm2d(64)\n",
        "        self.pool1 = nn.MaxPool2d(2, 2)\n",
        "\n",
        "        self.conv4 = nn.Conv2d(in_channels=64, out_channels=128, kernel_size=3, stride=1, padding=1)\n",
        "        self.bn4 = nn.BatchNorm2d(128)\n",
        "        self.conv5 = nn.Conv2d(in_channels=128, out_channels=128, kernel_size=3, stride=1, padding=1)\n",
        "        self.bn5 = nn.BatchNorm2d(128)\n",
        "        self.conv6 = nn.Conv2d(in_channels=128, out_channels=128, kernel_size=3, stride=1, padding=1)\n",
        "        self.bn6 = nn.BatchNorm2d(128)\n",
        "        self.pool2 = nn.MaxPool2d(2, 2)\n",
        "\n",
        "        self.conv7 = nn.Conv2d(in_channels=128, out_channels=256, kernel_size=3, stride=1, padding=1)\n",
        "        self.bn7 = nn.BatchNorm2d(256)\n",
        "        self.conv8 = nn.Conv2d(in_channels=256, out_channels=256, kernel_size=3, stride=1, padding=1)\n",
        "        self.bn8 = nn.BatchNorm2d(256)\n",
        "        self.conv9 = nn.Conv2d(in_channels=256, out_channels=256, kernel_size=3, stride=1, padding=1)\n",
        "        self.bn9 = nn.BatchNorm2d(256)\n",
        "        self.pool3 = nn.MaxPool2d(2, 2)\n",
        "\n",
        "        self.conv10 = nn.Conv2d(in_channels=256, out_channels=512, kernel_size=3, stride=1, padding=1)\n",
        "        self.bn10 = nn.BatchNorm2d(512)\n",
        "        self.conv11 = nn.Conv2d(in_channels=512, out_channels=512, kernel_size=3, stride=1, padding=1)\n",
        "        self.bn11 = nn.BatchNorm2d(512)\n",
        "        self.conv12 = nn.Conv2d(in_channels=512, out_channels=512, kernel_size=3, stride=1, padding=1)\n",
        "        self.bn12 = nn.BatchNorm2d(512)\n",
        "        self.pool4 = nn.MaxPool2d(2, 2)\n",
        "\n",
        "        self.fc1 = nn.Linear(2 * 2 * 512, 200)\n",
        "        self.fc2 = nn.Linear(200, 10)\n",
        "        \n",
        "\n",
        "    def forward(self, x):\n",
        "        x = F.relu(self.bn1(self.conv1(x)))\n",
        "        x = F.relu(self.bn2(self.conv2(x)))\n",
        "        res = x\n",
        "        x = F.relu(self.bn3(self.conv3(x)))\n",
        "        x = res + x\n",
        "        x = self.pool1(x)\n",
        "\n",
        "        x = F.relu(self.bn4(self.conv4(x)))\n",
        "        x = F.relu(self.bn5(self.conv5(x)))\n",
        "        res = x\n",
        "        x = F.relu(self.bn6(self.conv6(x)))\n",
        "        x = res + x\n",
        "        x = self.pool2(x)\n",
        "\n",
        "        x = F.relu(self.bn7(self.conv7(x)))\n",
        "        x = F.relu(self.bn8(self.conv8(x)))\n",
        "        res = x\n",
        "        x = F.relu(self.bn9(self.conv9(x)))\n",
        "        x = res + x\n",
        "        x = self.pool3(x)\n",
        "\n",
        "        x = F.relu(self.bn10(self.conv10(x)))\n",
        "        x = F.relu(self.bn11(self.conv11(x)))\n",
        "        res = x\n",
        "        x = F.relu(self.bn12(self.conv12(x)))\n",
        "        x = res + x\n",
        "        x = self.pool4(x)\n",
        "        \n",
        "        x = torch.flatten(x, 1) # flatten all dimensions except batch\n",
        "        x = F.relu(self.fc1(x))\n",
        "        x = self.fc2(x)\n",
        "        return x\n",
        "\n",
        "summary(ResNet().cuda(), (3, 32, 32))"
      ],
      "execution_count": 39,
      "outputs": [
        {
          "output_type": "stream",
          "name": "stdout",
          "text": [
            "----------------------------------------------------------------\n",
            "        Layer (type)               Output Shape         Param #\n",
            "================================================================\n",
            "            Conv2d-1           [-1, 64, 32, 32]           1,792\n",
            "       BatchNorm2d-2           [-1, 64, 32, 32]             128\n",
            "            Conv2d-3           [-1, 64, 32, 32]          36,928\n",
            "       BatchNorm2d-4           [-1, 64, 32, 32]             128\n",
            "            Conv2d-5           [-1, 64, 32, 32]          36,928\n",
            "       BatchNorm2d-6           [-1, 64, 32, 32]             128\n",
            "         MaxPool2d-7           [-1, 64, 16, 16]               0\n",
            "            Conv2d-8          [-1, 128, 16, 16]          73,856\n",
            "       BatchNorm2d-9          [-1, 128, 16, 16]             256\n",
            "           Conv2d-10          [-1, 128, 16, 16]         147,584\n",
            "      BatchNorm2d-11          [-1, 128, 16, 16]             256\n",
            "           Conv2d-12          [-1, 128, 16, 16]         147,584\n",
            "      BatchNorm2d-13          [-1, 128, 16, 16]             256\n",
            "        MaxPool2d-14            [-1, 128, 8, 8]               0\n",
            "           Conv2d-15            [-1, 256, 8, 8]         295,168\n",
            "      BatchNorm2d-16            [-1, 256, 8, 8]             512\n",
            "           Conv2d-17            [-1, 256, 8, 8]         590,080\n",
            "      BatchNorm2d-18            [-1, 256, 8, 8]             512\n",
            "           Conv2d-19            [-1, 256, 8, 8]         590,080\n",
            "      BatchNorm2d-20            [-1, 256, 8, 8]             512\n",
            "        MaxPool2d-21            [-1, 256, 4, 4]               0\n",
            "           Conv2d-22            [-1, 512, 4, 4]       1,180,160\n",
            "      BatchNorm2d-23            [-1, 512, 4, 4]           1,024\n",
            "           Conv2d-24            [-1, 512, 4, 4]       2,359,808\n",
            "      BatchNorm2d-25            [-1, 512, 4, 4]           1,024\n",
            "           Conv2d-26            [-1, 512, 4, 4]       2,359,808\n",
            "      BatchNorm2d-27            [-1, 512, 4, 4]           1,024\n",
            "        MaxPool2d-28            [-1, 512, 2, 2]               0\n",
            "           Linear-29                  [-1, 200]         409,800\n",
            "           Linear-30                   [-1, 10]           2,010\n",
            "================================================================\n",
            "Total params: 8,237,346\n",
            "Trainable params: 8,237,346\n",
            "Non-trainable params: 0\n",
            "----------------------------------------------------------------\n",
            "Input size (MB): 0.01\n",
            "Forward/backward pass size (MB): 5.86\n",
            "Params size (MB): 31.42\n",
            "Estimated Total Size (MB): 37.30\n",
            "----------------------------------------------------------------\n"
          ]
        }
      ]
    },
    {
      "cell_type": "code",
      "metadata": {
        "id": "bjDp9Jb_KZlr"
      },
      "source": [
        "def train(epochs, model, criterion, optimizer, train_loader, test_loader):\n",
        "    train_epoch_loss, test_epoch_loss, train_epoch_acc, test_epoch_acc = [], [], [], []\n",
        "    for epoch in range(epochs):\n",
        "        train_acc, train_loss = train_epoch(model, criterion, optimizer, train_loader)\n",
        "        test_acc, test_loss = test(model, criterion, test_loader)\n",
        "        train_epoch_acc.append(train_acc)\n",
        "        test_epoch_acc.append(test_acc)\n",
        "        train_epoch_loss.append(train_loss)\n",
        "        test_epoch_loss.append(test_loss)\n",
        "        print('Epoch {:03d}/{:03d}, Train Accuracy {:.2f}% || Test Accuracy {:.2f}% || Train Loss {:.2f} || Test Loss {:.2f}'.format(epoch, epochs, train_acc*100, test_acc*100, train_loss, test_loss))\n",
        "    return train_epoch_loss, test_epoch_loss, train_epoch_acc, test_epoch_acc\n",
        "    \n",
        "def train_epoch(model, criterion, optimizer, loader):\n",
        "    total_correct = 0.\n",
        "    total_samples = 0.\n",
        "    total_loss = 0.\n",
        "    \n",
        "    for batch_idx, (data, target) in enumerate(loader):\n",
        "        if torch.cuda.is_available():\n",
        "          data, target = data.cuda(), target.cuda()            \n",
        "        output = model(data)\n",
        "        loss = criterion(output, target)\n",
        "        total_correct += (torch.max(output, 1)[1].view(target.size()).data == target.data).sum()\n",
        "        total_samples += target.shape[0]\n",
        "        optimizer.zero_grad()\n",
        "        loss.backward()\n",
        "        optimizer.step()\n",
        "        total_loss += loss.item()\n",
        "    total_loss /= (batch_idx + 1)\n",
        "    return total_correct/total_samples, total_loss\n",
        "    \n",
        "def test(model, criterion, loader):\n",
        "    total_correct = 0.\n",
        "    total_samples = 0.\n",
        "    total_loss = 0.0\n",
        "    model.eval()\n",
        "    \n",
        "    with torch.no_grad():\n",
        "        for batch_idx, (data, target) in enumerate(loader):\n",
        "            if torch.cuda.is_available():\n",
        "              data, target = data.cuda(), target.cuda()            \n",
        "            output = model(data)\n",
        "            loss = criterion(output, target)\n",
        "            total_correct += torch.eq(torch.max(output, 1)[1].view(target.size()).data, target.data).sum()\n",
        "            total_samples += target.shape[0]\n",
        "            total_loss += loss.item()\n",
        "        total_loss /= (batch_idx + 1)\n",
        "    return total_correct/total_samples, total_loss"
      ],
      "execution_count": 6,
      "outputs": []
    },
    {
      "cell_type": "markdown",
      "metadata": {
        "id": "f1dHuyL5Nf6u"
      },
      "source": [
        "# Optimizers"
      ]
    },
    {
      "cell_type": "markdown",
      "metadata": {
        "id": "aGiUfcfoyW1v"
      },
      "source": [
        "### Adam\n",
        "Standard Adam algorithm is described below: \\\n",
        "$\\eta$: Step size \\\n",
        "$\\beta_1, \\beta_2 \\in [0, 1)$: Exponential decay rates for the moment estimates \\\n",
        "$L(\\phi)$: Loss function with parameters $\\phi$ \\\n",
        "$t$: Current step \\\n",
        "$g_t \\gets \\nabla_{\\phi}f_t(\\phi_{t-1})$  (gradients with respect to parameters $\\phi$)\\\n",
        "$m_t \\gets \\frac{\\beta_1 m_{t−1} + (1 − \\beta_1) g_t}{1-\\beta_1^t}$ (first moment)\\\n",
        "$v_t \\gets \\frac{\\beta_2 v_{t−1} + (1 − \\beta_2) g_t^2}{1 - \\beta_2^t}$ (second moment) \\\n",
        "\n",
        "$\\phi_{t+1} \\gets \\phi_t - \\frac{\\eta m_t}{\\sqrt{v_t} + ϵ} $ \\\n"
      ]
    },
    {
      "cell_type": "code",
      "metadata": {
        "id": "bEzpZUUJ0LVJ"
      },
      "source": [
        "# Adam optimizer\n",
        "import math\n",
        "from torch.optim import Optimizer\n",
        "\n",
        "class Adam(Optimizer):\n",
        "\n",
        "    def __init__(self, params, lr=1e-2, betas=(0.9, 0.999), epsilon=1e-8,\n",
        "            weight_decay=0):\n",
        "        defaults = dict(lr=lr, betas=betas, epsilon=epsilon,\n",
        "                weight_decay=weight_decay)\n",
        "        super(Adam, self).__init__(params, defaults)\n",
        "\n",
        "    def step(self, forward_closure=None):\n",
        "        loss = None\n",
        "        if forward_closure is not None:\n",
        "            loss = self._forward_backward(forward_closure)\n",
        "\n",
        "        for group in self.param_groups:\n",
        "            for p in group['params']:\n",
        "                grad = p.grad\n",
        "                state = self.state[id(p)]\n",
        "\n",
        "                # State initialization\n",
        "                if len(state) == 0:\n",
        "                    state['step'] = 0\n",
        "                    # Exponential moving average of gradient values\n",
        "                    state['exp_avg'] = grad.new().resize_as_(grad).zero_()\n",
        "                    # Exponential moving average of squared gradient values\n",
        "                    state['exp_avg_sq'] = grad.new().resize_as_(grad).zero_()\n",
        "\n",
        "                exp_avg, exp_avg_sq = state['exp_avg'], state['exp_avg_sq']\n",
        "                beta1, beta2 = group['betas']\n",
        "\n",
        "                state['step'] += 1\n",
        "\n",
        "                if group['weight_decay'] != 0:\n",
        "                    grad = grad.add(group['weight_decay'], p.data)\n",
        "\n",
        "                # Decay the first and second moment running average coefficient\n",
        "                exp_avg.mul_(beta1).add_(1 - beta1, grad)\n",
        "                exp_avg_sq.mul_(beta2).addcmul_(1 - beta2, grad, grad)\n",
        "\n",
        "                denom = exp_avg_sq.sqrt().add_(group['epsilon'])\n",
        "\n",
        "                bias_correction1 = 1 - beta1 ** state['step']\n",
        "                bias_correction2 = 1 - beta2 ** state['step']\n",
        "                step_size = group['lr'] * math.sqrt(bias_correction2) / bias_correction1\n",
        "\n",
        "                p.data.addcdiv_(-step_size, exp_avg, denom)\n",
        "\n",
        "        return loss\n"
      ],
      "execution_count": 5,
      "outputs": []
    },
    {
      "cell_type": "code",
      "metadata": {
        "colab": {
          "base_uri": "https://localhost:8080/"
        },
        "id": "NtRdHvBQLC62",
        "outputId": "3634338f-cd66-4ab6-d89b-51874b2eedca"
      },
      "source": [
        "import time\n",
        "\n",
        "EPOCHS = 20\n",
        "start = time.time()\n",
        "criterion = torch.nn.CrossEntropyLoss()\n",
        "model = ResNet().cuda()\n",
        "lr = 1e-3\n",
        "optimizer = Adam(model.parameters(), lr=lr)\n",
        "train_epoch_loss, test_epoch_loss, train_epoch_acc, test_epoch_acc = train(EPOCHS, model, criterion, optimizer, train_loader, test_loader)\n",
        "print('time taken: ',time.time() - start)"
      ],
      "execution_count": 6,
      "outputs": [
        {
          "output_type": "stream",
          "name": "stdout",
          "text": [
            "Epoch 000/020, Train Accuracy 37.09% || Test Accuracy 52.79% || Train Loss 1.66 || Test Loss 1.31\n",
            "Epoch 001/020, Train Accuracy 54.33% || Test Accuracy 62.09% || Train Loss 1.25 || Test Loss 1.06\n",
            "Epoch 002/020, Train Accuracy 63.25% || Test Accuracy 69.79% || Train Loss 1.03 || Test Loss 0.85\n",
            "Epoch 003/020, Train Accuracy 69.62% || Test Accuracy 73.66% || Train Loss 0.86 || Test Loss 0.75\n",
            "Epoch 004/020, Train Accuracy 74.22% || Test Accuracy 76.17% || Train Loss 0.74 || Test Loss 0.70\n",
            "Epoch 005/020, Train Accuracy 77.52% || Test Accuracy 78.88% || Train Loss 0.65 || Test Loss 0.62\n",
            "Epoch 006/020, Train Accuracy 80.26% || Test Accuracy 80.51% || Train Loss 0.57 || Test Loss 0.57\n",
            "Epoch 007/020, Train Accuracy 82.39% || Test Accuracy 81.73% || Train Loss 0.51 || Test Loss 0.55\n",
            "Epoch 008/020, Train Accuracy 83.89% || Test Accuracy 82.89% || Train Loss 0.46 || Test Loss 0.51\n",
            "Epoch 009/020, Train Accuracy 85.72% || Test Accuracy 83.25% || Train Loss 0.42 || Test Loss 0.52\n",
            "Epoch 010/020, Train Accuracy 87.03% || Test Accuracy 81.75% || Train Loss 0.37 || Test Loss 0.55\n",
            "Epoch 011/020, Train Accuracy 87.89% || Test Accuracy 83.38% || Train Loss 0.35 || Test Loss 0.53\n",
            "Epoch 012/020, Train Accuracy 89.22% || Test Accuracy 83.39% || Train Loss 0.31 || Test Loss 0.53\n",
            "Epoch 013/020, Train Accuracy 89.85% || Test Accuracy 84.27% || Train Loss 0.29 || Test Loss 0.51\n",
            "Epoch 014/020, Train Accuracy 90.83% || Test Accuracy 85.06% || Train Loss 0.27 || Test Loss 0.48\n",
            "Epoch 015/020, Train Accuracy 91.32% || Test Accuracy 85.46% || Train Loss 0.25 || Test Loss 0.48\n",
            "Epoch 016/020, Train Accuracy 92.16% || Test Accuracy 84.92% || Train Loss 0.23 || Test Loss 0.50\n",
            "Epoch 017/020, Train Accuracy 92.67% || Test Accuracy 85.41% || Train Loss 0.21 || Test Loss 0.51\n",
            "Epoch 018/020, Train Accuracy 93.17% || Test Accuracy 85.16% || Train Loss 0.20 || Test Loss 0.54\n",
            "Epoch 019/020, Train Accuracy 93.46% || Test Accuracy 85.77% || Train Loss 0.19 || Test Loss 0.51\n",
            "time taken:  1147.5543022155762\n"
          ]
        }
      ]
    },
    {
      "cell_type": "code",
      "metadata": {
        "colab": {
          "base_uri": "https://localhost:8080/",
          "height": 350
        },
        "id": "FlWfTj-Vd3KT",
        "outputId": "0f8158f5-f152-41cc-a4fa-ca1bac6f0c72"
      },
      "source": [
        "import matplotlib.pyplot as plt\n",
        "\n",
        "fig, (ax1, ax2) = plt.subplots(1, 2, figsize=(12,5))\n",
        "\n",
        "epochs = range(1, EPOCHS + 1)\n",
        "ax1.plot(epochs, train_epoch_loss)\n",
        "ax1.plot(epochs, test_epoch_loss)\n",
        "ax2.plot(epochs, train_epoch_acc)\n",
        "ax2.plot(epochs, test_epoch_acc)\n",
        "ax1.set_title('model loss')\n",
        "ax2.set_title('model accuracy')\n",
        "ax1.set_ylabel('loss')\n",
        "ax1.set_xlabel('epoch')\n",
        "ax2.set_ylabel('accuracy')\n",
        "ax2.set_xlabel('epoch')\n",
        "ax1.legend(['train', 'test'], loc=\"upper right\")\n",
        "ax2.legend(['train', 'test'], loc=\"upper right\")\n",
        "plt.show()"
      ],
      "execution_count": 7,
      "outputs": [
        {
          "output_type": "display_data",
          "data": {
            "image/png": "[encoded data removed]",
            "text/plain": [
              "<Figure size 864x360 with 2 Axes>"
            ]
          },
          "metadata": {
            "needs_background": "light"
          }
        }
      ]
    },
    {
      "cell_type": "markdown",
      "metadata": {
        "id": "uZ-Qcooq-xwb"
      },
      "source": [
        "### Simplified Adam\n",
        "A simplified Adam algorithm is described below (discussed in the lecture): \\\n",
        "$\\eta$: Step size \\\n",
        "$N_1, N_2$ are typically 100 and 1000 \\\n",
        "$L(\\phi)$: Loss function with parameters $\\phi$ \\\n",
        "$t$: Current step \\\n",
        "$g_t \\gets \\nabla_{\\phi}f_t(\\phi_{t-1})$  (gradients with respect to parameters $\\phi$)\\\n",
        "$m_t \\gets (1-\\frac{1}{min(t, N_1)}) m_{t−1} + \\frac{1}{min(t, N_1)} g_t$ (first moment)\\\n",
        "$v_t \\gets (1 - \\frac{1}{min(t, N_2)}) v_{t-1} + \\frac{1}{min(t, N_1)} g_t^2$ (second moment) \\\n",
        "\n",
        "$\\phi_{t+1} \\gets \\phi_t - \\frac{\\eta m_t}{\\sqrt{v_t} + ϵ} $ \\\n"
      ]
    },
    {
      "cell_type": "code",
      "metadata": {
        "id": "znsVz8l05d2y"
      },
      "source": [
        "# A simplified adam (taken from lecture notes)\n",
        "import math\n",
        "from torch.optim import Optimizer\n",
        "\n",
        "class AdamSimplified(Optimizer):\n",
        "\n",
        "    def __init__(self, params, lr=1e-2, betas=(0.9, 0.999), epsilon=1e-8,\n",
        "            weight_decay=0):\n",
        "        ns = (1/(1-betas[0]), 1/(1-betas[1]))\n",
        "        defaults = dict(lr=lr, ns=ns, epsilon=epsilon,\n",
        "                weight_decay=weight_decay)\n",
        "        super(AdamSimplified, self).__init__(params, defaults)\n",
        "\n",
        "    def step(self, forward_closure=None):\n",
        "        loss = None\n",
        "        if forward_closure is not None:\n",
        "            loss = self._forward_backward(forward_closure)\n",
        "\n",
        "        for group in self.param_groups:\n",
        "            for p in group['params']:\n",
        "                grad = p.grad\n",
        "                state = self.state[id(p)]\n",
        "\n",
        "                # State initialization\n",
        "                if len(state) == 0:\n",
        "                    state['step'] = 0\n",
        "                    # Exponential moving average of gradient values\n",
        "                    state['exp_avg'] = grad.new().resize_as_(grad).zero_()\n",
        "                    # Exponential moving average of squared gradient values\n",
        "                    state['exp_avg_sq'] = grad.new().resize_as_(grad).zero_()\n",
        "\n",
        "                exp_avg, exp_avg_sq = state['exp_avg'], state['exp_avg_sq']\n",
        "                ns1, ns2 = group['ns']\n",
        "\n",
        "                state['step'] += 1\n",
        "                t = state['step']\n",
        "\n",
        "                if group['weight_decay'] != 0:\n",
        "                    grad = grad.add(group['weight_decay'], p.data)\n",
        "\n",
        "                # Decay the first and second moment running average coefficient\n",
        "                exp_avg.mul_(1 - 1 / min(t, ns1)).add_(1 / min(t, ns1), grad)\n",
        "                exp_avg_sq.mul_(1 - 1 / min(t, ns2)).addcmul_(1 / min(t, ns2), grad, grad)\n",
        "\n",
        "                denom = exp_avg_sq.sqrt().add_(group['epsilon'])              \n",
        "                step_size = group['lr']\n",
        "                p.data.addcdiv_(-step_size, exp_avg, denom)\n",
        "\n",
        "        return loss\n"
      ],
      "execution_count": 13,
      "outputs": []
    },
    {
      "cell_type": "code",
      "metadata": {
        "colab": {
          "base_uri": "https://localhost:8080/"
        },
        "id": "BrdJTiCR77Ty",
        "outputId": "0a8a5e4d-9d91-4ecc-c9c4-e428ded58290"
      },
      "source": [
        "import time\n",
        "\n",
        "EPOCHS = 20\n",
        "start = time.time()\n",
        "criterion = torch.nn.CrossEntropyLoss()\n",
        "model = ResNet().cuda()\n",
        "lr = 1e-3\n",
        "optimizer = AdamSimplified(model.parameters(), lr=lr)\n",
        "train_epoch_loss, test_epoch_loss, train_epoch_acc, test_epoch_acc = train(EPOCHS, model, criterion, optimizer, train_loader, test_loader)\n",
        "print('time taken: ',time.time() - start)"
      ],
      "execution_count": 14,
      "outputs": [
        {
          "output_type": "stream",
          "name": "stdout",
          "text": [
            "Epoch 000/020, Train Accuracy 29.76% || Test Accuracy 46.17% || Train Loss 1.82 || Test Loss 1.42\n",
            "Epoch 001/020, Train Accuracy 47.44% || Test Accuracy 56.77% || Train Loss 1.41 || Test Loss 1.21\n",
            "Epoch 002/020, Train Accuracy 59.23% || Test Accuracy 65.47% || Train Loss 1.13 || Test Loss 0.99\n",
            "Epoch 003/020, Train Accuracy 66.14% || Test Accuracy 71.31% || Train Loss 0.96 || Test Loss 0.82\n",
            "Epoch 004/020, Train Accuracy 70.90% || Test Accuracy 74.88% || Train Loss 0.84 || Test Loss 0.74\n",
            "Epoch 005/020, Train Accuracy 74.71% || Test Accuracy 76.70% || Train Loss 0.73 || Test Loss 0.69\n",
            "Epoch 006/020, Train Accuracy 77.92% || Test Accuracy 78.79% || Train Loss 0.65 || Test Loss 0.62\n",
            "Epoch 007/020, Train Accuracy 80.13% || Test Accuracy 80.61% || Train Loss 0.58 || Test Loss 0.57\n",
            "Epoch 008/020, Train Accuracy 81.99% || Test Accuracy 80.51% || Train Loss 0.53 || Test Loss 0.58\n",
            "Epoch 009/020, Train Accuracy 83.46% || Test Accuracy 80.96% || Train Loss 0.48 || Test Loss 0.58\n",
            "Epoch 010/020, Train Accuracy 84.63% || Test Accuracy 82.91% || Train Loss 0.44 || Test Loss 0.52\n",
            "Epoch 011/020, Train Accuracy 86.28% || Test Accuracy 83.39% || Train Loss 0.40 || Test Loss 0.53\n",
            "Epoch 012/020, Train Accuracy 87.27% || Test Accuracy 83.32% || Train Loss 0.37 || Test Loss 0.51\n",
            "Epoch 013/020, Train Accuracy 88.32% || Test Accuracy 84.31% || Train Loss 0.34 || Test Loss 0.51\n",
            "Epoch 014/020, Train Accuracy 89.21% || Test Accuracy 84.00% || Train Loss 0.32 || Test Loss 0.52\n",
            "Epoch 015/020, Train Accuracy 89.96% || Test Accuracy 84.16% || Train Loss 0.29 || Test Loss 0.53\n",
            "Epoch 016/020, Train Accuracy 90.62% || Test Accuracy 84.25% || Train Loss 0.27 || Test Loss 0.53\n",
            "Epoch 017/020, Train Accuracy 91.33% || Test Accuracy 85.04% || Train Loss 0.25 || Test Loss 0.54\n",
            "Epoch 018/020, Train Accuracy 91.76% || Test Accuracy 83.70% || Train Loss 0.24 || Test Loss 0.53\n",
            "Epoch 019/020, Train Accuracy 92.54% || Test Accuracy 85.52% || Train Loss 0.22 || Test Loss 0.53\n",
            "time taken:  1154.2092010974884\n"
          ]
        }
      ]
    },
    {
      "cell_type": "code",
      "metadata": {
        "colab": {
          "base_uri": "https://localhost:8080/",
          "height": 350
        },
        "id": "ZS779w8B8ASU",
        "outputId": "73f0dec6-23f6-4bcc-cc41-a69fab9df091"
      },
      "source": [
        "import matplotlib.pyplot as plt\n",
        "\n",
        "fig, (ax1, ax2) = plt.subplots(1, 2, figsize=(12,5))\n",
        "\n",
        "epochs = range(1, EPOCHS + 1)\n",
        "ax1.plot(epochs, train_epoch_loss)\n",
        "ax1.plot(epochs, test_epoch_loss)\n",
        "ax2.plot(epochs, train_epoch_acc)\n",
        "ax2.plot(epochs, test_epoch_acc)\n",
        "ax1.set_title('model loss')\n",
        "ax2.set_title('model accuracy')\n",
        "ax1.set_ylabel('loss')\n",
        "ax1.set_xlabel('epoch')\n",
        "ax2.set_ylabel('accuracy')\n",
        "ax2.set_xlabel('epoch')\n",
        "ax1.legend(['train', 'test'], loc=\"upper right\")\n",
        "ax2.legend(['train', 'test'], loc=\"upper right\")\n",
        "plt.show()"
      ],
      "execution_count": 15,
      "outputs": [
        {
          "output_type": "display_data",
          "data": {
            "image/png": "[encoded data removed]",
            "text/plain": [
              "<Figure size 864x360 with 2 Axes>"
            ]
          },
          "metadata": {
            "needs_background": "light"
          }
        }
      ]
    },
    {
      "cell_type": "markdown",
      "metadata": {
        "id": "iXm4LSg4wp3Y"
      },
      "source": [
        "### Adam with higher order moment\n",
        "Adam with higher order moment is described below: \\\n",
        "$\\eta$: Step size \\\n",
        "$\\beta_1, \\beta_2 \\in [0, 1)$: Exponential decay rates for the moment estimates \\\n",
        "$L(\\phi)$: Loss function with parameters $\\phi$ \\\n",
        "$t$: Current step \\\n",
        "$g_t \\gets \\nabla_{\\phi}f_t(\\phi_{t-1})$  (gradients with respect to parameters $\\phi$)\\\n",
        "$m_t \\gets \\frac{\\beta_1 m_{t−1} + (1 − \\beta_1) g_t}{1-\\beta_1^t}$ (first moment)\\\n",
        "$v_t \\gets \\frac{\\beta_2 v_{t−1} + (1 − \\beta_2) g_t^3}{1 - \\beta_2^k}$ (third moment) \\\n",
        "\n",
        "$\\phi_{t+1} \\gets \\phi_t - \\frac{\\eta m_t}{\\sqrt[k]{v_t} + ϵ} $ \\\n"
      ]
    },
    {
      "cell_type": "code",
      "metadata": {
        "id": "hgx9O8wkwpSM"
      },
      "source": [
        "# Adam optimizer\n",
        "import math\n",
        "from torch.optim import Optimizer\n",
        "\n",
        "class Adam_HigherOrderMoment(Optimizer):\n",
        "\n",
        "    def __init__(self, params, lr=1e-2, betas=(0.9, 0.999), epsilon=1e-8,\n",
        "            weight_decay=0, order=3):\n",
        "        defaults = dict(lr=lr, betas=betas, epsilon=epsilon,\n",
        "                weight_decay=weight_decay, order=order)\n",
        "        super(Adam_HigherOrderMoment, self).__init__(params, defaults)\n",
        "\n",
        "    def step(self, forward_closure=None):\n",
        "        loss = None\n",
        "        if forward_closure is not None:\n",
        "            loss = self._forward_backward(forward_closure)\n",
        "\n",
        "        for group in self.param_groups:\n",
        "            for p in group['params']:\n",
        "                grad = p.grad\n",
        "                state = self.state[id(p)]\n",
        "\n",
        "                # State initialization\n",
        "                if len(state) == 0:\n",
        "                    state['step'] = 0\n",
        "                    # Exponential moving average of gradient values\n",
        "                    state['exp_avg'] = grad.new().resize_as_(grad).zero_()\n",
        "                    # Exponential moving average of higher order gradient values\n",
        "                    state['exp_avg_hi'] = grad.new().resize_as_(grad).zero_()\n",
        "\n",
        "                exp_avg, exp_avg_hi = state['exp_avg'], state['exp_avg_hi']\n",
        "                beta1, beta2 = group['betas']\n",
        "                order = group['order']\n",
        "                state['step'] += 1\n",
        "\n",
        "                if group['weight_decay'] != 0:\n",
        "                    grad = grad.add(group['weight_decay'], p.data)\n",
        "\n",
        "                # Decay the first and second moment running average coefficient\n",
        "                exp_avg.mul_(beta1).add_(1 - beta1, grad)\n",
        "                \n",
        "                # take power of grad\n",
        "                grad_pow = grad\n",
        "                for _ in range(order - 1):\n",
        "                  grad_pow = grad_pow.mul(grad)\n",
        "                  \n",
        "\n",
        "                exp_avg_hi.mul_(beta2).add_(1 - beta2, grad_pow)\n",
        "\n",
        "                denom = exp_avg_hi.pow(1/order).add_(group['epsilon'])\n",
        "\n",
        "                bias_correction1 = 1 - beta1 ** state['step']\n",
        "                bias_correction2 = 1 - beta2 ** state['step']\n",
        "                step_size = group['lr'] * math.pow(bias_correction2, 1/order) / bias_correction1\n",
        "\n",
        "                p.data.addcdiv_(-step_size, exp_avg, denom)\n",
        "\n",
        "        return loss"
      ],
      "execution_count": 32,
      "outputs": []
    },
    {
      "cell_type": "code",
      "metadata": {
        "colab": {
          "base_uri": "https://localhost:8080/"
        },
        "id": "MT8YrCPMzlEN",
        "outputId": "101920a4-758b-458a-a789-31cfc407b431"
      },
      "source": [
        "# order 3\n",
        "import time\n",
        "\n",
        "EPOCHS = 20\n",
        "start = time.time()\n",
        "criterion = torch.nn.CrossEntropyLoss()\n",
        "model = ResNet().cuda()\n",
        "lr = 1e-3\n",
        "optimizer = Adam_HigherOrderMoment(model.parameters(), lr=lr)\n",
        "train_epoch_loss, test_epoch_loss, train_epoch_acc, test_epoch_acc = train(EPOCHS, model, criterion, optimizer, train_loader, test_loader)\n",
        "print('time taken: ',time.time() - start)"
      ],
      "execution_count": 10,
      "outputs": [
        {
          "output_type": "stream",
          "name": "stdout",
          "text": [
            "Epoch 000/020, Train Accuracy 30.60% || Test Accuracy 47.91% || Train Loss 1.89 || Test Loss 1.41\n",
            "Epoch 001/020, Train Accuracy 49.94% || Test Accuracy 59.56% || Train Loss 1.37 || Test Loss 1.12\n",
            "Epoch 002/020, Train Accuracy 60.61% || Test Accuracy 66.67% || Train Loss 1.10 || Test Loss 0.94\n",
            "Epoch 003/020, Train Accuracy 67.76% || Test Accuracy 73.22% || Train Loss 0.92 || Test Loss 0.79\n",
            "Epoch 004/020, Train Accuracy 72.37% || Test Accuracy 76.58% || Train Loss 0.79 || Test Loss 0.68\n",
            "Epoch 005/020, Train Accuracy 75.86% || Test Accuracy 78.56% || Train Loss 0.70 || Test Loss 0.62\n",
            "Epoch 006/020, Train Accuracy 78.14% || Test Accuracy 80.48% || Train Loss 0.63 || Test Loss 0.59\n",
            "Epoch 007/020, Train Accuracy 80.14% || Test Accuracy 81.27% || Train Loss 0.58 || Test Loss 0.57\n",
            "Epoch 008/020, Train Accuracy 81.53% || Test Accuracy 82.52% || Train Loss 0.54 || Test Loss 0.53\n",
            "Epoch 009/020, Train Accuracy 83.05% || Test Accuracy 81.83% || Train Loss 0.50 || Test Loss 0.54\n",
            "Epoch 010/020, Train Accuracy 83.75% || Test Accuracy 83.16% || Train Loss 0.47 || Test Loss 0.52\n",
            "Epoch 011/020, Train Accuracy 84.77% || Test Accuracy 83.59% || Train Loss 0.44 || Test Loss 0.49\n",
            "Epoch 012/020, Train Accuracy 85.92% || Test Accuracy 83.47% || Train Loss 0.41 || Test Loss 0.49\n",
            "Epoch 013/020, Train Accuracy 86.57% || Test Accuracy 84.37% || Train Loss 0.39 || Test Loss 0.48\n",
            "Epoch 014/020, Train Accuracy 87.35% || Test Accuracy 83.54% || Train Loss 0.37 || Test Loss 0.54\n",
            "Epoch 015/020, Train Accuracy 87.92% || Test Accuracy 84.80% || Train Loss 0.35 || Test Loss 0.49\n",
            "Epoch 016/020, Train Accuracy 88.82% || Test Accuracy 84.79% || Train Loss 0.33 || Test Loss 0.48\n",
            "Epoch 017/020, Train Accuracy 89.16% || Test Accuracy 84.89% || Train Loss 0.32 || Test Loss 0.48\n",
            "Epoch 018/020, Train Accuracy 89.69% || Test Accuracy 85.24% || Train Loss 0.30 || Test Loss 0.47\n",
            "Epoch 019/020, Train Accuracy 90.28% || Test Accuracy 85.42% || Train Loss 0.28 || Test Loss 0.49\n",
            "time taken:  1171.1034009456635\n"
          ]
        }
      ]
    },
    {
      "cell_type": "code",
      "metadata": {
        "colab": {
          "base_uri": "https://localhost:8080/",
          "height": 350
        },
        "id": "G0P2enwR1pzB",
        "outputId": "243c173c-2324-466a-870b-dd58eeff9efd"
      },
      "source": [
        "import matplotlib.pyplot as plt\n",
        "\n",
        "fig, (ax1, ax2) = plt.subplots(1, 2, figsize=(12,5))\n",
        "\n",
        "epochs = range(1, EPOCHS + 1)\n",
        "ax1.plot(epochs, train_epoch_loss)\n",
        "ax1.plot(epochs, test_epoch_loss)\n",
        "ax2.plot(epochs, train_epoch_acc)\n",
        "ax2.plot(epochs, test_epoch_acc)\n",
        "ax1.set_title('model loss')\n",
        "ax2.set_title('model accuracy')\n",
        "ax1.set_ylabel('loss')\n",
        "ax1.set_xlabel('epoch')\n",
        "ax2.set_ylabel('accuracy')\n",
        "ax2.set_xlabel('epoch')\n",
        "ax1.legend(['train', 'test'], loc=\"upper right\")\n",
        "ax2.legend(['train', 'test'], loc=\"upper right\")\n",
        "plt.show()"
      ],
      "execution_count": 13,
      "outputs": [
        {
          "output_type": "display_data",
          "data": {
            "image/png": "[encoded data removed]",
            "text/plain": [
              "<Figure size 864x360 with 2 Axes>"
            ]
          },
          "metadata": {
            "needs_background": "light"
          }
        }
      ]
    },
    {
      "cell_type": "code",
      "metadata": {
        "colab": {
          "base_uri": "https://localhost:8080/"
        },
        "id": "DMPafJpQ7mtG",
        "outputId": "08af1e4e-0d0b-4e4e-f715-8a05489b934f"
      },
      "source": [
        "# order 4\n",
        "import time\n",
        "\n",
        "EPOCHS = 20\n",
        "start = time.time()\n",
        "criterion = torch.nn.CrossEntropyLoss()\n",
        "model = ResNet().cuda()\n",
        "lr = 1e-3\n",
        "optimizer = Adam_HigherOrderMoment(model.parameters(), lr=lr, order=4)\n",
        "train_epoch_loss, test_epoch_loss, train_epoch_acc, test_epoch_acc = train(EPOCHS, model, criterion, optimizer, train_loader, test_loader)\n",
        "print('time taken: ',time.time() - start)"
      ],
      "execution_count": 33,
      "outputs": [
        {
          "output_type": "stream",
          "name": "stdout",
          "text": [
            "Epoch 000/020, Train Accuracy 38.47% || Test Accuracy 56.14% || Train Loss 1.65 || Test Loss 1.20\n",
            "Epoch 001/020, Train Accuracy 58.08% || Test Accuracy 67.10% || Train Loss 1.16 || Test Loss 0.93\n",
            "Epoch 002/020, Train Accuracy 67.25% || Test Accuracy 73.35% || Train Loss 0.92 || Test Loss 0.76\n",
            "Epoch 003/020, Train Accuracy 73.05% || Test Accuracy 76.98% || Train Loss 0.78 || Test Loss 0.67\n",
            "Epoch 004/020, Train Accuracy 77.12% || Test Accuracy 80.63% || Train Loss 0.66 || Test Loss 0.57\n",
            "Epoch 005/020, Train Accuracy 79.94% || Test Accuracy 81.33% || Train Loss 0.58 || Test Loss 0.55\n",
            "Epoch 006/020, Train Accuracy 82.34% || Test Accuracy 82.38% || Train Loss 0.51 || Test Loss 0.52\n",
            "Epoch 007/020, Train Accuracy 84.26% || Test Accuracy 84.06% || Train Loss 0.46 || Test Loss 0.49\n",
            "Epoch 008/020, Train Accuracy 85.69% || Test Accuracy 84.63% || Train Loss 0.41 || Test Loss 0.47\n",
            "Epoch 009/020, Train Accuracy 87.18% || Test Accuracy 84.23% || Train Loss 0.37 || Test Loss 0.48\n",
            "Epoch 010/020, Train Accuracy 88.62% || Test Accuracy 85.04% || Train Loss 0.33 || Test Loss 0.47\n",
            "Epoch 011/020, Train Accuracy 89.67% || Test Accuracy 85.41% || Train Loss 0.30 || Test Loss 0.46\n",
            "Epoch 012/020, Train Accuracy 90.55% || Test Accuracy 85.72% || Train Loss 0.27 || Test Loss 0.47\n",
            "Epoch 013/020, Train Accuracy 91.39% || Test Accuracy 85.12% || Train Loss 0.25 || Test Loss 0.50\n",
            "Epoch 014/020, Train Accuracy 92.28% || Test Accuracy 85.71% || Train Loss 0.22 || Test Loss 0.51\n",
            "Epoch 015/020, Train Accuracy 92.82% || Test Accuracy 85.51% || Train Loss 0.21 || Test Loss 0.49\n",
            "Epoch 016/020, Train Accuracy 93.43% || Test Accuracy 84.76% || Train Loss 0.19 || Test Loss 0.58\n",
            "Epoch 017/020, Train Accuracy 93.97% || Test Accuracy 86.54% || Train Loss 0.18 || Test Loss 0.49\n",
            "Epoch 018/020, Train Accuracy 94.51% || Test Accuracy 86.33% || Train Loss 0.16 || Test Loss 0.49\n",
            "Epoch 019/020, Train Accuracy 94.84% || Test Accuracy 86.14% || Train Loss 0.15 || Test Loss 0.52\n",
            "time taken:  1187.406508922577\n"
          ]
        }
      ]
    },
    {
      "cell_type": "code",
      "metadata": {
        "colab": {
          "base_uri": "https://localhost:8080/",
          "height": 350
        },
        "id": "AzM8LW_68J49",
        "outputId": "ddb0b65b-0e5f-4875-b4d7-d6a06bedae8d"
      },
      "source": [
        "import matplotlib.pyplot as plt\n",
        "\n",
        "fig, (ax1, ax2) = plt.subplots(1, 2, figsize=(12,5))\n",
        "\n",
        "epochs = range(1, EPOCHS + 1)\n",
        "ax1.plot(epochs, train_epoch_loss)\n",
        "ax1.plot(epochs, test_epoch_loss)\n",
        "ax2.plot(epochs, train_epoch_acc)\n",
        "ax2.plot(epochs, test_epoch_acc)\n",
        "ax1.set_title('model loss')\n",
        "ax2.set_title('model accuracy')\n",
        "ax1.set_ylabel('loss')\n",
        "ax1.set_xlabel('epoch')\n",
        "ax2.set_ylabel('accuracy')\n",
        "ax2.set_xlabel('epoch')\n",
        "ax1.legend(['train', 'test'], loc=\"upper right\")\n",
        "ax2.legend(['train', 'test'], loc=\"upper right\")\n",
        "plt.show()"
      ],
      "execution_count": 34,
      "outputs": [
        {
          "output_type": "display_data",
          "data": {
            "image/png": "[encoded data removed]",
            "text/plain": [
              "<Figure size 864x360 with 2 Axes>"
            ]
          },
          "metadata": {
            "needs_background": "light"
          }
        }
      ]
    },
    {
      "cell_type": "code",
      "metadata": {
        "colab": {
          "base_uri": "https://localhost:8080/"
        },
        "id": "UE8_Obe6LBOV",
        "outputId": "9b86959b-2db9-43d4-d55b-819e9b56a63c"
      },
      "source": [
        "# order 5\n",
        "import time\n",
        "\n",
        "EPOCHS = 20\n",
        "start = time.time()\n",
        "criterion = torch.nn.CrossEntropyLoss()\n",
        "model = ResNet().cuda()\n",
        "lr = 1e-3\n",
        "optimizer = Adam_HigherOrderMoment(model.parameters(), lr=lr, order=5)\n",
        "train_epoch_loss, test_epoch_loss, train_epoch_acc, test_epoch_acc = train(EPOCHS, model, criterion, optimizer, train_loader, test_loader)\n",
        "print('time taken: ',time.time() - start)"
      ],
      "execution_count": 35,
      "outputs": [
        {
          "output_type": "stream",
          "name": "stdout",
          "text": [
            "Epoch 000/020, Train Accuracy 10.00% || Test Accuracy 10.00% || Train Loss nan || Test Loss nan\n",
            "Epoch 001/020, Train Accuracy 10.00% || Test Accuracy 10.00% || Train Loss nan || Test Loss nan\n",
            "Epoch 002/020, Train Accuracy 10.00% || Test Accuracy 10.00% || Train Loss nan || Test Loss nan\n",
            "Epoch 003/020, Train Accuracy 10.00% || Test Accuracy 10.00% || Train Loss nan || Test Loss nan\n",
            "Epoch 004/020, Train Accuracy 10.00% || Test Accuracy 10.00% || Train Loss nan || Test Loss nan\n",
            "Epoch 005/020, Train Accuracy 10.00% || Test Accuracy 10.00% || Train Loss nan || Test Loss nan\n",
            "Epoch 006/020, Train Accuracy 10.00% || Test Accuracy 10.00% || Train Loss nan || Test Loss nan\n",
            "Epoch 007/020, Train Accuracy 10.00% || Test Accuracy 10.00% || Train Loss nan || Test Loss nan\n",
            "Epoch 008/020, Train Accuracy 10.00% || Test Accuracy 10.00% || Train Loss nan || Test Loss nan\n",
            "Epoch 009/020, Train Accuracy 10.00% || Test Accuracy 10.00% || Train Loss nan || Test Loss nan\n",
            "Epoch 010/020, Train Accuracy 10.00% || Test Accuracy 10.00% || Train Loss nan || Test Loss nan\n",
            "Epoch 011/020, Train Accuracy 10.00% || Test Accuracy 10.00% || Train Loss nan || Test Loss nan\n",
            "Epoch 012/020, Train Accuracy 10.00% || Test Accuracy 10.00% || Train Loss nan || Test Loss nan\n",
            "Epoch 013/020, Train Accuracy 10.00% || Test Accuracy 10.00% || Train Loss nan || Test Loss nan\n",
            "Epoch 014/020, Train Accuracy 10.00% || Test Accuracy 10.00% || Train Loss nan || Test Loss nan\n",
            "Epoch 015/020, Train Accuracy 10.00% || Test Accuracy 10.00% || Train Loss nan || Test Loss nan\n",
            "Epoch 016/020, Train Accuracy 10.00% || Test Accuracy 10.00% || Train Loss nan || Test Loss nan\n",
            "Epoch 017/020, Train Accuracy 10.00% || Test Accuracy 10.00% || Train Loss nan || Test Loss nan\n",
            "Epoch 018/020, Train Accuracy 10.00% || Test Accuracy 10.00% || Train Loss nan || Test Loss nan\n",
            "Epoch 019/020, Train Accuracy 10.00% || Test Accuracy 10.00% || Train Loss nan || Test Loss nan\n",
            "time taken:  1199.6783862113953\n"
          ]
        }
      ]
    },
    {
      "cell_type": "code",
      "metadata": {
        "colab": {
          "base_uri": "https://localhost:8080/",
          "height": 350
        },
        "id": "2HAOUNEfLELu",
        "outputId": "b0d877c5-935b-4446-b761-856ae60edf68"
      },
      "source": [
        "import matplotlib.pyplot as plt\n",
        "\n",
        "fig, (ax1, ax2) = plt.subplots(1, 2, figsize=(12,5))\n",
        "\n",
        "epochs = range(1, EPOCHS + 1)\n",
        "ax1.plot(epochs, train_epoch_loss)\n",
        "ax1.plot(epochs, test_epoch_loss)\n",
        "ax2.plot(epochs, train_epoch_acc)\n",
        "ax2.plot(epochs, test_epoch_acc)\n",
        "ax1.set_title('model loss')\n",
        "ax2.set_title('model accuracy')\n",
        "ax1.set_ylabel('loss')\n",
        "ax1.set_xlabel('epoch')\n",
        "ax2.set_ylabel('accuracy')\n",
        "ax2.set_xlabel('epoch')\n",
        "ax1.legend(['train', 'test'], loc=\"upper right\")\n",
        "ax2.legend(['train', 'test'], loc=\"upper right\")\n",
        "plt.show()"
      ],
      "execution_count": 36,
      "outputs": [
        {
          "output_type": "display_data",
          "data": {
            "image/png": "[encoded data removed]",
            "text/plain": [
              "<Figure size 864x360 with 2 Axes>"
            ]
          },
          "metadata": {
            "needs_background": "light"
          }
        }
      ]
    },
    {
      "cell_type": "markdown",
      "metadata": {
        "id": "-ILT2p_rIWqx"
      },
      "source": [
        "### Adam without first moment correction\n",
        "A modified Adam algorithm without first moment correction is described below: \\\n",
        "$\\eta$: Step size \\\n",
        "$\\beta_1, \\beta_2 \\in [0, 1)$: Exponential decay rates for the moment estimates \\\n",
        "$L(\\phi)$: Loss function with parameters $\\phi$ \\\n",
        "$t$: Current step \\\n",
        "$g_t \\gets \\nabla_{\\phi}f_t(\\phi_{t-1})$  (gradients with respect to parameters $\\phi$)\\\n",
        "$m_t \\gets \\beta_1 m_{t−1} + (1 − \\beta_1) g_t$ (first moment)\\\n",
        "$v_t \\gets \\frac{\\beta_2 v_{t−1} + (1 − \\beta_2) g_t^2}{1 - \\beta_2^t}$ (second moment) \\\n",
        "\n",
        "$\\phi_{t+1} \\gets \\phi_t - \\frac{\\eta m_t}{\\sqrt{v_t} + ϵ} $ \\\n"
      ]
    },
    {
      "cell_type": "code",
      "metadata": {
        "id": "5ZZ2I0nfIepu"
      },
      "source": [
        "# Adam optimizer without first moment correction\n",
        "import math\n",
        "from torch.optim import Optimizer\n",
        "\n",
        "class Adam_WithoutFirstCorrection(Optimizer):\n",
        "\n",
        "    def __init__(self, params, lr=1e-2, betas=(0.9, 0.999), epsilon=1e-8,\n",
        "            weight_decay=0):\n",
        "        defaults = dict(lr=lr, betas=betas, epsilon=epsilon,\n",
        "                weight_decay=weight_decay)\n",
        "        super(Adam_WithoutFirstCorrection, self).__init__(params, defaults)\n",
        "\n",
        "    def step(self, forward_closure=None):\n",
        "        loss = None\n",
        "        if forward_closure is not None:\n",
        "            loss = self._forward_backward(forward_closure)\n",
        "\n",
        "        for group in self.param_groups:\n",
        "            for p in group['params']:\n",
        "                grad = p.grad\n",
        "                state = self.state[id(p)]\n",
        "\n",
        "                # State initialization\n",
        "                if len(state) == 0:\n",
        "                    state['step'] = 0\n",
        "                    # Exponential moving average of gradient values\n",
        "                    state['exp_avg'] = grad.new().resize_as_(grad).zero_()\n",
        "                    # Exponential moving average of squared gradient values\n",
        "                    state['exp_avg_sq'] = grad.new().resize_as_(grad).zero_()\n",
        "\n",
        "                exp_avg, exp_avg_sq = state['exp_avg'], state['exp_avg_sq']\n",
        "                beta1, beta2 = group['betas']\n",
        "\n",
        "                state['step'] += 1\n",
        "\n",
        "                if group['weight_decay'] != 0:\n",
        "                    grad = grad.add(group['weight_decay'], p.data)\n",
        "\n",
        "                # Decay the first and second moment running average coefficient\n",
        "                exp_avg.mul_(beta1).add_(1 - beta1, grad)\n",
        "                exp_avg_sq.mul_(beta2).addcmul_(1 - beta2, grad, grad)\n",
        "\n",
        "                denom = exp_avg_sq.sqrt().add_(group['epsilon'])\n",
        "\n",
        "                # bias_correction1 = 1 - beta1 ** state['step']\n",
        "                bias_correction2 = 1 - beta2 ** state['step']\n",
        "                step_size = group['lr'] * math.sqrt(bias_correction2)\n",
        "\n",
        "                p.data.addcdiv_(-step_size, exp_avg, denom)\n",
        "\n",
        "        return loss\n"
      ],
      "execution_count": 24,
      "outputs": []
    },
    {
      "cell_type": "code",
      "metadata": {
        "colab": {
          "base_uri": "https://localhost:8080/"
        },
        "id": "Au38VwOBI1VO",
        "outputId": "17a3e259-d7ef-40f1-e93c-50c0c330de68"
      },
      "source": [
        "import time\n",
        "\n",
        "EPOCHS = 20\n",
        "start = time.time()\n",
        "criterion = torch.nn.CrossEntropyLoss()\n",
        "model = ResNet().cuda()\n",
        "lr = 1e-3\n",
        "optimizer = Adam_WithoutFirstCorrection(model.parameters(), lr=lr)\n",
        "train_epoch_loss, test_epoch_loss, train_epoch_acc, test_epoch_acc = train(EPOCHS, model, criterion, optimizer, train_loader, test_loader)\n",
        "print('time taken: ',time.time() - start)"
      ],
      "execution_count": 25,
      "outputs": [
        {
          "output_type": "stream",
          "name": "stdout",
          "text": [
            "Epoch 000/020, Train Accuracy 42.80% || Test Accuracy 57.13% || Train Loss 1.53 || Test Loss 1.20\n",
            "Epoch 001/020, Train Accuracy 57.47% || Test Accuracy 66.53% || Train Loss 1.18 || Test Loss 0.94\n",
            "Epoch 002/020, Train Accuracy 67.31% || Test Accuracy 72.97% || Train Loss 0.92 || Test Loss 0.77\n",
            "Epoch 003/020, Train Accuracy 73.13% || Test Accuracy 76.72% || Train Loss 0.77 || Test Loss 0.68\n",
            "Epoch 004/020, Train Accuracy 77.25% || Test Accuracy 79.18% || Train Loss 0.66 || Test Loss 0.60\n",
            "Epoch 005/020, Train Accuracy 79.80% || Test Accuracy 81.06% || Train Loss 0.58 || Test Loss 0.56\n",
            "Epoch 006/020, Train Accuracy 82.22% || Test Accuracy 82.46% || Train Loss 0.51 || Test Loss 0.53\n",
            "Epoch 007/020, Train Accuracy 84.28% || Test Accuracy 83.20% || Train Loss 0.46 || Test Loss 0.50\n",
            "Epoch 008/020, Train Accuracy 85.85% || Test Accuracy 83.11% || Train Loss 0.41 || Test Loss 0.52\n",
            "Epoch 009/020, Train Accuracy 87.13% || Test Accuracy 83.31% || Train Loss 0.38 || Test Loss 0.50\n",
            "Epoch 010/020, Train Accuracy 88.12% || Test Accuracy 84.80% || Train Loss 0.34 || Test Loss 0.48\n",
            "Epoch 011/020, Train Accuracy 89.13% || Test Accuracy 84.32% || Train Loss 0.32 || Test Loss 0.51\n",
            "Epoch 012/020, Train Accuracy 89.92% || Test Accuracy 85.77% || Train Loss 0.29 || Test Loss 0.46\n",
            "Epoch 013/020, Train Accuracy 90.66% || Test Accuracy 84.59% || Train Loss 0.27 || Test Loss 0.52\n",
            "Epoch 014/020, Train Accuracy 91.44% || Test Accuracy 85.29% || Train Loss 0.25 || Test Loss 0.49\n",
            "Epoch 015/020, Train Accuracy 91.86% || Test Accuracy 86.04% || Train Loss 0.23 || Test Loss 0.48\n",
            "Epoch 016/020, Train Accuracy 92.59% || Test Accuracy 84.46% || Train Loss 0.22 || Test Loss 0.50\n",
            "Epoch 017/020, Train Accuracy 93.11% || Test Accuracy 85.56% || Train Loss 0.20 || Test Loss 0.51\n",
            "Epoch 018/020, Train Accuracy 93.59% || Test Accuracy 84.81% || Train Loss 0.19 || Test Loss 0.56\n",
            "Epoch 019/020, Train Accuracy 93.78% || Test Accuracy 86.07% || Train Loss 0.18 || Test Loss 0.49\n",
            "time taken:  1147.1447339057922\n"
          ]
        }
      ]
    },
    {
      "cell_type": "code",
      "metadata": {
        "colab": {
          "base_uri": "https://localhost:8080/",
          "height": 350
        },
        "id": "yfD9tJCgJ1D3",
        "outputId": "2cec4df6-bf8f-49c4-ee68-6ca16582fb70"
      },
      "source": [
        "import matplotlib.pyplot as plt\n",
        "\n",
        "fig, (ax1, ax2) = plt.subplots(1, 2, figsize=(12,5))\n",
        "\n",
        "epochs = range(1, EPOCHS + 1)\n",
        "ax1.plot(epochs, train_epoch_loss)\n",
        "ax1.plot(epochs, test_epoch_loss)\n",
        "ax2.plot(epochs, train_epoch_acc)\n",
        "ax2.plot(epochs, test_epoch_acc)\n",
        "ax1.set_title('model loss')\n",
        "ax2.set_title('model accuracy')\n",
        "ax1.set_ylabel('loss')\n",
        "ax1.set_xlabel('epoch')\n",
        "ax2.set_ylabel('accuracy')\n",
        "ax2.set_xlabel('epoch')\n",
        "ax1.legend(['train', 'test'], loc=\"upper right\")\n",
        "ax2.legend(['train', 'test'], loc=\"upper right\")\n",
        "plt.show()"
      ],
      "execution_count": 27,
      "outputs": [
        {
          "output_type": "display_data",
          "data": {
            "image/png": "[encoded data removed]",
            "text/plain": [
              "<Figure size 864x360 with 2 Axes>"
            ]
          },
          "metadata": {
            "needs_background": "light"
          }
        }
      ]
    },
    {
      "cell_type": "markdown",
      "metadata": {
        "id": "wCcS3N0yHajB"
      },
      "source": [
        "### Adam without second moment correction\n",
        "$\\eta$: Step size \\\n",
        "$\\beta_1, \\beta_2 \\in [0, 1)$: Exponential decay rates for the moment estimates \\\n",
        "$L(\\phi)$: Loss function with parameters $\\phi$ \\\n",
        "$t$: Current step \\\n",
        "$g_t \\gets \\nabla_{\\phi}f_t(\\phi_{t-1})$  (gradients with respect to paramters $\\phi$)\\\n",
        "$m_t \\gets \\frac{\\beta_1 m_{t−1} + (1 − \\beta_1) g_t}{1-\\beta_1^t}$ (first moment)\\\n",
        "$v_t \\gets \\beta_2 v_{t−1} + (1 − \\beta_2) g_t^2$ (second moment) \\\n",
        "\n",
        "$\\phi_{t+1} \\gets \\phi_t - \\frac{\\eta m_t}{\\sqrt{v_t} + ϵ} $ \\\n"
      ]
    },
    {
      "cell_type": "code",
      "metadata": {
        "id": "V7jKNvdkBi4a"
      },
      "source": [
        "# Adam optimizer without second moment correction\n",
        "import math\n",
        "from torch.optim import Optimizer\n",
        "\n",
        "class Adam_WithoutSecondCorrection(Optimizer):\n",
        "\n",
        "    def __init__(self, params, lr=1e-2, betas=(0.9, 0.999), epsilon=1e-8,\n",
        "            weight_decay=0):\n",
        "        defaults = dict(lr=lr, betas=betas, epsilon=epsilon,\n",
        "                weight_decay=weight_decay)\n",
        "        super(Adam_WithoutSecondCorrection, self).__init__(params, defaults)\n",
        "\n",
        "    def step(self, forward_closure=None):\n",
        "        loss = None\n",
        "        if forward_closure is not None:\n",
        "            loss = self._forward_backward(forward_closure)\n",
        "\n",
        "        for group in self.param_groups:\n",
        "            for p in group['params']:\n",
        "                grad = p.grad\n",
        "                state = self.state[id(p)]\n",
        "\n",
        "                # State initialization\n",
        "                if len(state) == 0:\n",
        "                    state['step'] = 0\n",
        "                    # Exponential moving average of gradient values\n",
        "                    state['exp_avg'] = grad.new().resize_as_(grad).zero_()\n",
        "                    # Exponential moving average of squared gradient values\n",
        "                    state['exp_avg_sq'] = grad.new().resize_as_(grad).zero_()\n",
        "\n",
        "                exp_avg, exp_avg_sq = state['exp_avg'], state['exp_avg_sq']\n",
        "                beta1, beta2 = group['betas']\n",
        "\n",
        "                state['step'] += 1\n",
        "\n",
        "                if group['weight_decay'] != 0:\n",
        "                    grad = grad.add(group['weight_decay'], p.data)\n",
        "\n",
        "                # Decay the first and second moment running average coefficient\n",
        "                exp_avg.mul_(beta1).add_(1 - beta1, grad)\n",
        "                exp_avg_sq.mul_(beta2).addcmul_(1 - beta2, grad, grad)\n",
        "\n",
        "                denom = exp_avg_sq.sqrt().add_(group['epsilon'])\n",
        "\n",
        "                bias_correction1 = 1 - beta1 ** state['step']\n",
        "                # bias_correction2 = 1 - beta2 ** state['step']\n",
        "                step_size = group['lr'] / bias_correction1 # second correction does not change value by much\n",
        "\n",
        "                p.data.addcdiv_(-step_size, exp_avg, denom)\n",
        "\n",
        "        return loss\n"
      ],
      "execution_count": 19,
      "outputs": []
    },
    {
      "cell_type": "code",
      "metadata": {
        "colab": {
          "base_uri": "https://localhost:8080/"
        },
        "id": "AI74zQ3yDk1o",
        "outputId": "a2b0b840-f67b-45eb-dcac-5802304402bc"
      },
      "source": [
        "import time\n",
        "\n",
        "EPOCHS = 20\n",
        "start = time.time()\n",
        "criterion = torch.nn.CrossEntropyLoss()\n",
        "model = ResNet().cuda()\n",
        "lr = 1e-3\n",
        "optimizer = Adam_WithoutSecondCorrection(model.parameters(), lr=lr)\n",
        "train_epoch_loss, test_epoch_loss, train_epoch_acc, test_epoch_acc = train(EPOCHS, model, criterion, optimizer, train_loader, test_loader)\n",
        "print('time taken: ',time.time() - start)"
      ],
      "execution_count": 20,
      "outputs": [
        {
          "output_type": "stream",
          "name": "stdout",
          "text": [
            "Epoch 000/020, Train Accuracy 11.62% || Test Accuracy 17.46% || Train Loss 2.66 || Test Loss 2.13\n",
            "Epoch 001/020, Train Accuracy 21.17% || Test Accuracy 24.15% || Train Loss 2.01 || Test Loss 1.92\n",
            "Epoch 002/020, Train Accuracy 25.88% || Test Accuracy 27.44% || Train Loss 1.87 || Test Loss 1.81\n",
            "Epoch 003/020, Train Accuracy 31.35% || Test Accuracy 33.95% || Train Loss 1.78 || Test Loss 1.71\n",
            "Epoch 004/020, Train Accuracy 37.22% || Test Accuracy 41.79% || Train Loss 1.65 || Test Loss 1.52\n",
            "Epoch 005/020, Train Accuracy 42.94% || Test Accuracy 46.42% || Train Loss 1.51 || Test Loss 1.42\n",
            "Epoch 006/020, Train Accuracy 47.83% || Test Accuracy 51.85% || Train Loss 1.40 || Test Loss 1.29\n",
            "Epoch 007/020, Train Accuracy 52.46% || Test Accuracy 56.95% || Train Loss 1.29 || Test Loss 1.17\n",
            "Epoch 008/020, Train Accuracy 56.82% || Test Accuracy 60.66% || Train Loss 1.18 || Test Loss 1.09\n",
            "Epoch 009/020, Train Accuracy 60.57% || Test Accuracy 63.63% || Train Loss 1.10 || Test Loss 1.02\n",
            "Epoch 010/020, Train Accuracy 63.39% || Test Accuracy 65.88% || Train Loss 1.02 || Test Loss 0.96\n",
            "Epoch 011/020, Train Accuracy 65.79% || Test Accuracy 67.80% || Train Loss 0.96 || Test Loss 0.91\n",
            "Epoch 012/020, Train Accuracy 68.04% || Test Accuracy 69.65% || Train Loss 0.90 || Test Loss 0.86\n",
            "Epoch 013/020, Train Accuracy 69.80% || Test Accuracy 71.09% || Train Loss 0.85 || Test Loss 0.82\n",
            "Epoch 014/020, Train Accuracy 71.81% || Test Accuracy 71.96% || Train Loss 0.80 || Test Loss 0.80\n",
            "Epoch 015/020, Train Accuracy 73.62% || Test Accuracy 72.57% || Train Loss 0.76 || Test Loss 0.77\n",
            "Epoch 016/020, Train Accuracy 75.10% || Test Accuracy 74.24% || Train Loss 0.71 || Test Loss 0.74\n",
            "Epoch 017/020, Train Accuracy 76.60% || Test Accuracy 75.47% || Train Loss 0.67 || Test Loss 0.71\n",
            "Epoch 018/020, Train Accuracy 77.88% || Test Accuracy 75.88% || Train Loss 0.63 || Test Loss 0.70\n",
            "Epoch 019/020, Train Accuracy 79.26% || Test Accuracy 77.08% || Train Loss 0.60 || Test Loss 0.69\n",
            "time taken:  1148.8427574634552\n"
          ]
        }
      ]
    },
    {
      "cell_type": "code",
      "metadata": {
        "colab": {
          "base_uri": "https://localhost:8080/",
          "height": 350
        },
        "id": "vlhBR-91D26H",
        "outputId": "361f29f4-b5d2-474b-ab0d-fbf0aa416d45"
      },
      "source": [
        "import matplotlib.pyplot as plt\n",
        "\n",
        "fig, (ax1, ax2) = plt.subplots(1, 2, figsize=(12,5))\n",
        "\n",
        "epochs = range(1, EPOCHS + 1)\n",
        "ax1.plot(epochs, train_epoch_loss)\n",
        "ax1.plot(epochs, test_epoch_loss)\n",
        "ax2.plot(epochs, train_epoch_acc)\n",
        "ax2.plot(epochs, test_epoch_acc)\n",
        "ax1.set_title('model loss')\n",
        "ax2.set_title('model accuracy')\n",
        "ax1.set_ylabel('loss')\n",
        "ax1.set_xlabel('epoch')\n",
        "ax2.set_ylabel('accuracy')\n",
        "ax2.set_xlabel('epoch')\n",
        "ax1.legend(['train', 'test'], loc=\"upper right\")\n",
        "ax2.legend(['train', 'test'], loc=\"upper right\")\n",
        "plt.show()"
      ],
      "execution_count": 22,
      "outputs": [
        {
          "output_type": "display_data",
          "data": {
            "image/png": "[encoded data removed]",
            "text/plain": [
              "<Figure size 864x360 with 2 Axes>"
            ]
          },
          "metadata": {
            "needs_background": "light"
          }
        }
      ]
    },
    {
      "cell_type": "markdown",
      "metadata": {
        "id": "gUW0Y-i_JN6k"
      },
      "source": [
        "### Adam without correction\n",
        "$\\eta$: Step size \\\n",
        "$\\beta_1, \\beta_2 \\in [0, 1)$: Exponential decay rates for the moment estimates \\\n",
        "$L(\\phi)$: Loss function with parameters $\\phi$ \\\n",
        "$t$: Current step \\\n",
        "$g_t \\gets \\nabla_{\\phi}f_t(\\phi_{t-1})$  (gradients with respect to parameters $\\phi$)\\\n",
        "$m_t \\gets \\beta_1 m_{t−1} + (1 − \\beta_1) g_t$ (first moment)\\\n",
        "$v_t \\gets \\beta_2 v_{t−1} + (1 − \\beta_2) g_t^2$ (second moment) \\\n",
        "\n",
        "$\\phi_{t+1} \\gets \\phi_t - \\frac{\\eta m_t}{\\sqrt{v_t} + ϵ} $ \\\n"
      ]
    },
    {
      "cell_type": "code",
      "metadata": {
        "id": "O1Emp_WDJcvP"
      },
      "source": [
        "# Adam optimizer without correction\n",
        "import math\n",
        "from torch.optim import Optimizer\n",
        "\n",
        "class Adam_WithoutCorrection(Optimizer):\n",
        "\n",
        "    def __init__(self, params, lr=1e-2, betas=(0.9, 0.999), epsilon=1e-8,\n",
        "            weight_decay=0):\n",
        "        defaults = dict(lr=lr, betas=betas, epsilon=epsilon,\n",
        "                weight_decay=weight_decay)\n",
        "        super(Adam_WithoutCorrection, self).__init__(params, defaults)\n",
        "\n",
        "    def step(self, forward_closure=None):\n",
        "        loss = None\n",
        "        if forward_closure is not None:\n",
        "            loss = self._forward_backward(forward_closure)\n",
        "\n",
        "        for group in self.param_groups:\n",
        "            for p in group['params']:\n",
        "                grad = p.grad\n",
        "                state = self.state[id(p)]\n",
        "\n",
        "                # State initialization\n",
        "                if len(state) == 0:\n",
        "                    state['step'] = 0\n",
        "                    # Exponential moving average of gradient values\n",
        "                    state['exp_avg'] = grad.new().resize_as_(grad).zero_()\n",
        "                    # Exponential moving average of squared gradient values\n",
        "                    state['exp_avg_sq'] = grad.new().resize_as_(grad).zero_()\n",
        "\n",
        "                exp_avg, exp_avg_sq = state['exp_avg'], state['exp_avg_sq']\n",
        "                beta1, beta2 = group['betas']\n",
        "\n",
        "                state['step'] += 1\n",
        "\n",
        "                if group['weight_decay'] != 0:\n",
        "                    grad = grad.add(group['weight_decay'], p.data)\n",
        "\n",
        "                # Decay the first and second moment running average coefficient\n",
        "                exp_avg.mul_(beta1).add_(1 - beta1, grad)\n",
        "                exp_avg_sq.mul_(beta2).addcmul_(1 - beta2, grad, grad)\n",
        "\n",
        "                denom = exp_avg_sq.sqrt().add_(group['epsilon'])\n",
        "\n",
        "                # bias_correction1 = 1 - beta1 ** state['step']\n",
        "                # bias_correction2 = 1 - beta2 ** state['step']\n",
        "                step_size = group['lr']\n",
        "\n",
        "                p.data.addcdiv_(-step_size, exp_avg, denom)\n",
        "\n",
        "        return loss\n"
      ],
      "execution_count": 28,
      "outputs": []
    },
    {
      "cell_type": "code",
      "metadata": {
        "colab": {
          "base_uri": "https://localhost:8080/"
        },
        "id": "3G04eRggJnWa",
        "outputId": "6678bbdb-1531-4beb-c354-0029e0b69037"
      },
      "source": [
        "import time\n",
        "\n",
        "EPOCHS = 20\n",
        "start = time.time()\n",
        "criterion = torch.nn.CrossEntropyLoss()\n",
        "model = ResNet().cuda()\n",
        "lr = 1e-3\n",
        "optimizer = Adam_WithoutCorrection(model.parameters(), lr=lr)\n",
        "train_epoch_loss, test_epoch_loss, train_epoch_acc, test_epoch_acc = train(EPOCHS, model, criterion, optimizer, train_loader, test_loader)\n",
        "print('time taken: ',time.time() - start)"
      ],
      "execution_count": 29,
      "outputs": [
        {
          "output_type": "stream",
          "name": "stdout",
          "text": [
            "Epoch 000/020, Train Accuracy 15.25% || Test Accuracy 20.29% || Train Loss 2.18 || Test Loss 1.97\n",
            "Epoch 001/020, Train Accuracy 19.96% || Test Accuracy 20.84% || Train Loss 1.95 || Test Loss 1.89\n",
            "Epoch 002/020, Train Accuracy 20.82% || Test Accuracy 22.17% || Train Loss 1.89 || Test Loss 1.86\n",
            "Epoch 003/020, Train Accuracy 21.85% || Test Accuracy 22.40% || Train Loss 1.86 || Test Loss 1.83\n",
            "Epoch 004/020, Train Accuracy 22.63% || Test Accuracy 23.30% || Train Loss 1.83 || Test Loss 1.79\n",
            "Epoch 005/020, Train Accuracy 24.16% || Test Accuracy 25.07% || Train Loss 1.80 || Test Loss 1.77\n",
            "Epoch 006/020, Train Accuracy 26.03% || Test Accuracy 27.18% || Train Loss 1.78 || Test Loss 1.74\n",
            "Epoch 007/020, Train Accuracy 28.30% || Test Accuracy 29.86% || Train Loss 1.74 || Test Loss 1.71\n",
            "Epoch 008/020, Train Accuracy 30.11% || Test Accuracy 31.15% || Train Loss 1.72 || Test Loss 1.69\n",
            "Epoch 009/020, Train Accuracy 32.38% || Test Accuracy 31.11% || Train Loss 1.69 || Test Loss 1.72\n",
            "Epoch 010/020, Train Accuracy 39.89% || Test Accuracy 48.90% || Train Loss 1.55 || Test Loss 1.33\n",
            "Epoch 011/020, Train Accuracy 52.81% || Test Accuracy 57.69% || Train Loss 1.29 || Test Loss 1.17\n",
            "Epoch 012/020, Train Accuracy 58.91% || Test Accuracy 62.02% || Train Loss 1.16 || Test Loss 1.10\n",
            "Epoch 013/020, Train Accuracy 63.06% || Test Accuracy 66.09% || Train Loss 1.06 || Test Loss 1.02\n",
            "Epoch 014/020, Train Accuracy 66.00% || Test Accuracy 67.60% || Train Loss 0.99 || Test Loss 0.96\n",
            "Epoch 015/020, Train Accuracy 68.24% || Test Accuracy 68.82% || Train Loss 0.93 || Test Loss 0.96\n",
            "Epoch 016/020, Train Accuracy 69.93% || Test Accuracy 70.29% || Train Loss 0.88 || Test Loss 0.92\n",
            "Epoch 017/020, Train Accuracy 72.10% || Test Accuracy 70.85% || Train Loss 0.83 || Test Loss 0.90\n",
            "Epoch 018/020, Train Accuracy 73.65% || Test Accuracy 74.15% || Train Loss 0.79 || Test Loss 0.85\n",
            "Epoch 019/020, Train Accuracy 74.94% || Test Accuracy 75.23% || Train Loss 0.76 || Test Loss 0.83\n",
            "time taken:  1144.8133356571198\n"
          ]
        }
      ]
    },
    {
      "cell_type": "code",
      "metadata": {
        "colab": {
          "base_uri": "https://localhost:8080/",
          "height": 350
        },
        "id": "wI1Knp--OQDE",
        "outputId": "2c1546cd-df9b-46ce-e987-ef34053f79b1"
      },
      "source": [
        "import matplotlib.pyplot as plt\n",
        "\n",
        "fig, (ax1, ax2) = plt.subplots(1, 2, figsize=(12,5))\n",
        "\n",
        "epochs = range(1, EPOCHS + 1)\n",
        "ax1.plot(epochs, train_epoch_loss)\n",
        "ax1.plot(epochs, test_epoch_loss)\n",
        "ax2.plot(epochs, train_epoch_acc)\n",
        "ax2.plot(epochs, test_epoch_acc)\n",
        "ax1.set_title('model loss')\n",
        "ax2.set_title('model accuracy')\n",
        "ax1.set_ylabel('loss')\n",
        "ax1.set_xlabel('epoch')\n",
        "ax2.set_ylabel('accuracy')\n",
        "ax2.set_xlabel('epoch')\n",
        "ax1.legend(['train', 'test'], loc=\"upper right\")\n",
        "ax2.legend(['train', 'test'], loc=\"upper right\")\n",
        "plt.show()"
      ],
      "execution_count": 30,
      "outputs": [
        {
          "output_type": "display_data",
          "data": {
            "image/png": "[encoded data removed]",
            "text/plain": [
              "<Figure size 864x360 with 2 Axes>"
            ]
          },
          "metadata": {
            "needs_background": "light"
          }
        }
      ]
    }
  ]
}